{
 "cells": [
  {
   "cell_type": "code",
   "execution_count": 1,
   "metadata": {},
   "outputs": [
    {
     "name": "stdout",
     "output_type": "stream",
     "text": [
      "Populating the interactive namespace from numpy and matplotlib\n"
     ]
    }
   ],
   "source": [
    "%pylab inline\n",
    "import pandas as pd"
   ]
  },
  {
   "cell_type": "code",
   "execution_count": 2,
   "metadata": {},
   "outputs": [],
   "source": [
    "# Read in the dataframe and delete galaxies with empty entries\n",
    "full_df = pd.read_csv('full_df_correct.csv', index_col=0)\n",
    "full_df = full_df[full_df.flux_75.notnull()]"
   ]
  },
  {
   "cell_type": "markdown",
   "metadata": {},
   "source": [
    "## Unit Tests on Features"
   ]
  },
  {
   "cell_type": "code",
   "execution_count": 15,
   "metadata": {},
   "outputs": [
    {
     "data": {
      "text/plain": [
       "False"
      ]
     },
     "execution_count": 15,
     "metadata": {},
     "output_type": "execute_result"
    }
   ],
   "source": [
    "a = np.array([1,2,3])\n",
    "b = np.where(a < 1)\n",
    "bool(size(b))"
   ]
  },
  {
   "cell_type": "code",
   "execution_count": 21,
   "metadata": {},
   "outputs": [
    {
     "name": "stdout",
     "output_type": "stream",
     "text": [
      "All values in range. Test passed.\n",
      "True\n",
      "At least one value out of range. Test Failed.\n",
      "False\n"
     ]
    }
   ],
   "source": [
    "def gaussianity_limits(gauss_array):\n",
    "    \"\"\" Tests that all values in the Gassianity array are\n",
    "    between 1 and 2\n",
    "    \n",
    "    gauss_array: mean_gauss array from dataframe\n",
    "    \n",
    "    returns: True if all values between 0 and 1, else false\n",
    "    \"\"\"\n",
    "    number_under_1 = np.size(np.where(gauss_array < 1))\n",
    "    number_above_2 = np.size(np.where(gauss_array > 2))\n",
    "    if (number_under_1 + number_above_2) == 0:\n",
    "        print(\"All values in range. Test passed.\")\n",
    "        return True\n",
    "    print(\"At least one value out of range. Test Failed.\")\n",
    "    return False\n",
    "\n",
    "#create data to test\n",
    "gaussianity = full_df['mean_gauss']\n",
    "fake_gauss = np.array([0,1,2,3])\n",
    "\n",
    "# expect to pass\n",
    "print(gaussianity_limits(gaussianity)) \n",
    "# expect to fail\n",
    "print(gaussianity_limits(fake_gauss)) "
   ]
  },
  {
   "cell_type": "code",
   "execution_count": 22,
   "metadata": {},
   "outputs": [
    {
     "name": "stdout",
     "output_type": "stream",
     "text": [
      "75th percentile larger, as expected. Test passed.\n",
      "True\n",
      "75th percentile larger, as expected. Test passed.\n",
      "True\n",
      "75th percentile larger, as expected. Test passed.\n",
      "True\n",
      "75th percentile larger, as expected. Test passed.\n",
      "True\n"
     ]
    }
   ],
   "source": [
    "def percentile_check(feature, dataframe):\n",
    "    \"\"\" Ensures that the 75th percentile values always greater\n",
    "    than 25th percentile.\n",
    "    \n",
    "    feature: flux, vmed, W80, lum (available features to check)\n",
    "    \n",
    "    dataframe: the dataframe that contains the arrays to be checked\n",
    "    \n",
    "    returns: True if 75th percentile value larger than 25th, \n",
    "             false otherwise\n",
    "    \"\"\"\n",
    "    feature_string_25 = str(feature)+'_25'\n",
    "    feature_string_75 = str(feature)+'_75'\n",
    "    feature_data_25 = dataframe[feature_string_25]\n",
    "    feature_data_75 = dataframe[feature_string_75]\n",
    "    \n",
    "    num_discrepancy = np.size(np.where(feature_data_75 < feature_data_25))\n",
    "    \n",
    "    if (num_discrepancy == 0):\n",
    "        print(\"75th percentile larger, as expected. Test passed.\")\n",
    "        return True\n",
    "    print(\"75th percentile smaller than 25th. Test failed.\")\n",
    "    return False\n",
    "\n",
    "print(percentile_check('flux', full_df))\n",
    "print(percentile_check('vmed', full_df))\n",
    "print(percentile_check('W80', full_df))\n",
    "print(percentile_check('lum', full_df))"
   ]
  },
  {
   "cell_type": "code",
   "execution_count": null,
   "metadata": {},
   "outputs": [],
   "source": []
  }
 ],
 "metadata": {
  "kernelspec": {
   "display_name": "Python 3",
   "language": "python",
   "name": "python3"
  },
  "language_info": {
   "codemirror_mode": {
    "name": "ipython",
    "version": 3
   },
   "file_extension": ".py",
   "mimetype": "text/x-python",
   "name": "python",
   "nbconvert_exporter": "python",
   "pygments_lexer": "ipython3",
   "version": "3.6.5"
  }
 },
 "nbformat": 4,
 "nbformat_minor": 2
}
