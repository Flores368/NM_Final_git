{
 "cells": [
  {
   "cell_type": "code",
   "execution_count": null,
   "metadata": {},
   "outputs": [],
   "source": [
    "%pylab inline\n",
    "from astropy.io import fits\n",
    "import pandas as pd"
   ]
  },
  {
   "cell_type": "code",
   "execution_count": null,
   "metadata": {},
   "outputs": [],
   "source": [
    "non_AGN_list = np.loadtxt('../../Astro5_Mount/Anthony/Text_Files/nonAGN.txt')\n",
    "\n",
    "seyfert_before = np.loadtxt('../../Astro5_Mount/Anthony/Text_Files/seyfert_before.txt')\n",
    "sf_before = np.loadtxt('../../Astro5_Mount/Anthony/Text_Files/sf_before.txt')\n",
    "liner_before = np.loadtxt('../../Astro5_Mount/Anthony/Text_Files/liner_before.txt')\n",
    "\n",
    "AGN_list = np.append(seyfert_before, np.append(sf_before,liner_before,axis=0),axis=0)\n",
    "full_list = np.append(non_AGN_list, AGN_list,axis=0)"
   ]
  },
  {
   "cell_type": "code",
   "execution_count": null,
   "metadata": {},
   "outputs": [],
   "source": [
    "def retrieve_map(galaxies, filename):\n",
    "    map_vals = []\n",
    "    for gal in galaxies:\n",
    "        plateid = str(int(gal[0]))\n",
    "        ifuid = str(int(gal[1]))\n",
    "        \n",
    "        path = \"../../Astro5_Mount/Anthony/Fits_Files/MPL_5/\"+plateid+\"/\"+ifuid+\"/\"+plateid+\"-\"+ifuid+ \"-\" + filename\n",
    "        currentHdulist = fits.open(path)\n",
    "        vals = currentHdulist[0].data\n",
    "        \n",
    "        SNRPath = \"../../Astro5_Mount/Anthony/Fits_Files/MPL_5/\"+plateid+\"/\"+ifuid+\"/\"+plateid+\"-\"+ifuid+ \"-SNR_Map_Final.fits\"\n",
    "        currentHdulist = fits.open(SNRPath)\n",
    "        SNRVals = currentHdulist[0].data\n",
    "        \n",
    "        nonNan = vals[~np.isnan(vals)]\n",
    "        SNRVals = SNRVals[~np.isnan(vals)]\n",
    "        vals = nonNan[SNRVals > 10]\n",
    "        if np.size(vals) != 0:\n",
    "            map_vals.append(np.percentile(vals,75))\n",
    "        else:\n",
    "            map_vals.append(np.nan)\n",
    "    return map_vals"
   ]
  },
  {
   "cell_type": "markdown",
   "metadata": {},
   "source": [
    "# Add luminosity to Dataframe"
   ]
  },
  {
   "cell_type": "code",
   "execution_count": null,
   "metadata": {},
   "outputs": [],
   "source": [
    "def retrieve_luminosity(plateid, ifuid, percentile):\n",
    "    drpall = fits.open('../../Astro5_Mount/drpall-v2_0_1.fits')\n",
    "    data = drpall[1].data\n",
    "    plates = np.where(data.plate == int(plateid))\n",
    "    for plate in plates[0]:\n",
    "        if data[plate]['ifudsgn'] == str(ifuid):\n",
    "            luminosities = data[plate]['nsa_z']\n",
    "            return np.percentile(luminosities, percentile)\n",
    "    return np.nan"
   ]
  },
  {
   "cell_type": "code",
   "execution_count": null,
   "metadata": {},
   "outputs": [],
   "source": [
    "lums = []\n",
    "for gal in full_list:\n",
    "    plateid = str(int(gal[0]))\n",
    "    ifuid = str(int(gal[1]))\n",
    "    gal_lum_75 = retrieve_luminosity(plateid, ifuid, percentile)\n",
    "    lums.append(gal_lum_75)"
   ]
  },
  {
   "cell_type": "markdown",
   "metadata": {},
   "source": [
    "### Flux (Using 75th percentile)"
   ]
  },
  {
   "cell_type": "code",
   "execution_count": null,
   "metadata": {},
   "outputs": [],
   "source": []
  }
 ],
 "metadata": {
  "kernelspec": {
   "display_name": "Python 3",
   "language": "python",
   "name": "python3"
  },
  "language_info": {
   "codemirror_mode": {
    "name": "ipython",
    "version": 3
   },
   "file_extension": ".py",
   "mimetype": "text/x-python",
   "name": "python",
   "nbconvert_exporter": "python",
   "pygments_lexer": "ipython3",
   "version": "3.6.5"
  }
 },
 "nbformat": 4,
 "nbformat_minor": 2
}
